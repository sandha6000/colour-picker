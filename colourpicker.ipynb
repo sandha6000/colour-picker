{
 "cells": [
  {
   "cell_type": "markdown",
   "id": "ca1018b5",
   "metadata": {},
   "source": [
    "Before proceeding make sure you install Opencv and Pandas libraries\n",
    "pip install opencv-python \n",
    "pip install pandas"
   ]
  },
  {
   "cell_type": "markdown",
   "id": "daab9ee2",
   "metadata": {},
   "source": [
    "# IMPORTING THE LIBRARIES"
   ]
  },
  {
   "cell_type": "code",
   "execution_count": 1,
   "id": "3763b667",
   "metadata": {},
   "outputs": [],
   "source": [
    "import cv2 \n",
    "import pandas as p"
   ]
  },
  {
   "cell_type": "markdown",
   "id": "2879408c",
   "metadata": {},
   "source": [
    "# Reading the colour dataset"
   ]
  },
  {
   "cell_type": "code",
   "execution_count": 2,
   "id": "ed2278b8",
   "metadata": {},
   "outputs": [],
   "source": [
    "data=p.read_csv(r'D:\\myproj\\colourpicker\\colors.csv')"
   ]
  },
  {
   "cell_type": "markdown",
   "id": "ba032f81",
   "metadata": {},
   "source": [
    "# Function for getting RGB values"
   ]
  },
  {
   "cell_type": "code",
   "execution_count": 3,
   "id": "bf32b636",
   "metadata": {},
   "outputs": [],
   "source": [
    "def click_event(event,x,y,flag,params):\n",
    "    global s\n",
    "    if event==cv2.EVENT_LBUTTONDOWN:\n",
    "        print(x,y)\n",
    "        b,g,r=frame[y,x]\n",
    "        s=recognize_color(r,g,b)\n",
    "        print(s)"
   ]
  },
  {
   "cell_type": "markdown",
   "id": "008e3a3c",
   "metadata": {},
   "source": [
    "# Function for recongnising the colour name through RGB values"
   ]
  },
  {
   "cell_type": "code",
   "execution_count": 4,
   "id": "64206994",
   "metadata": {},
   "outputs": [],
   "source": [
    "def recognize_color(R,G,B):\n",
    "    minimum = 10000\n",
    "    for i in range(len(data)):\n",
    "        d = abs(R- int(data.loc[i,\"R\"])) + abs(G- int(data.loc[i,\"G\"]))+ abs(B- int(data.loc[i,\"B\"]))\n",
    "        if(d<=minimum):\n",
    "            minimum = d\n",
    "            cname = data.loc[i,\"Name\"]\n",
    "    return cname"
   ]
  },
  {
   "cell_type": "markdown",
   "id": "0506e968",
   "metadata": {},
   "source": [
    "# Finding the colour in the given image "
   ]
  },
  {
   "cell_type": "markdown",
   "id": "63c87aa6",
   "metadata": {},
   "source": [
    "The colour will be displayed on the window when you click the colour in the particular spot displayed"
   ]
  },
  {
   "cell_type": "code",
   "execution_count": 6,
   "id": "0e230880",
   "metadata": {
    "scrolled": true
   },
   "outputs": [
    {
     "name": "stdout",
     "output_type": "stream",
     "text": [
      "189 108\n",
      "Peach-Orange\n",
      "470 38\n",
      "Red-Brown\n",
      "431 191\n",
      "Lavender (Web)\n",
      "596 208\n",
      "Magenta\n",
      "290 275\n",
      "Olive\n",
      "201 275\n",
      "Navy Blue\n",
      "168 20\n",
      "Black\n",
      "63 115\n",
      "Cocoa Brown\n",
      "72 195\n",
      "Violet (Web)\n",
      "148 193\n",
      "School Bus Yellow\n",
      "190 252\n",
      "Navy Blue\n",
      "148 182\n",
      "School Bus Yellow\n"
     ]
    },
    {
     "data": {
      "text/plain": [
       "-1"
      ]
     },
     "execution_count": 6,
     "metadata": {},
     "output_type": "execute_result"
    }
   ],
   "source": [
    "frame=cv2.imread(r'D:\\myproj\\colourpicker\\c.jpg')\n",
    "cv2.imshow('img',frame)\n",
    "cv2.setMouseCallback('img',click_event)\n",
    "cv2.waitKey(0)"
   ]
  },
  {
   "cell_type": "markdown",
   "id": "40967c90",
   "metadata": {},
   "source": [
    "# Finding the colour in the Live Video"
   ]
  },
  {
   "cell_type": "markdown",
   "id": "0d3abe93",
   "metadata": {},
   "source": [
    "The colour will be displayed on the window when you click the colour in the particular spot displayed"
   ]
  },
  {
   "cell_type": "code",
   "execution_count": null,
   "id": "b30189ca",
   "metadata": {},
   "outputs": [],
   "source": [
    "vid = cv2.VideoCapture(0)\n",
    "s=''\n",
    "while(True):\n",
    "    ret, frame = vid.read() #This line captures frames and store it in thr=e variable 'frame'\n",
    "    cv2.putText(frame,str(s),(50, 50),cv2.FONT_HERSHEY_SIMPLEX, 1, (0, 255, 255),2, cv2.LINE_4) #It put Text on the frame\n",
    "    cv2.imshow('frame', frame) #Here each frames are displayed. Since it is continous we feel like we are watching the video\n",
    "    cv2.setMouseCallback(\"frame\",click_event) #This function calls the function click_event on mouse click\n",
    "    if cv2.waitKey(1) & 0xFF == ord('q'):\n",
    "        break\n",
    "        \n",
    "# After the loop release the cap object\n",
    "vid.release()\n",
    "# Destroy all the windows\n",
    "cv2.destroyAllWindows()"
   ]
  },
  {
   "cell_type": "markdown",
   "id": "4ee55bae",
   "metadata": {},
   "source": [
    "# Finding the colour  in the given Video"
   ]
  },
  {
   "cell_type": "markdown",
   "id": "49e244f2",
   "metadata": {},
   "source": [
    "The colour will be displayed on the window when you click the colour in the particular spot displayed"
   ]
  },
  {
   "cell_type": "code",
   "execution_count": 5,
   "id": "0633f32d",
   "metadata": {},
   "outputs": [
    {
     "name": "stdout",
     "output_type": "stream",
     "text": [
      "785 325\n",
      "Manatee\n",
      "601 256\n",
      "Taupe\n",
      "157 640\n",
      "Black Olive\n"
     ]
    }
   ],
   "source": [
    "vidd = cv2.VideoCapture(r'C:\\Users\\sathya sandha\\Desktop\\videoediting\\96titanic\\96titanic.mp4')\n",
    "s=''\n",
    "while vidd.isOpened():\n",
    "    ret, frame = vidd.read() #This line captures frames and store it in thr=e variable 'frame'\n",
    "    cv2.putText(frame,str(s),(50, 50),cv2.FONT_HERSHEY_SIMPLEX, 1, (0, 255, 255),2, cv2.LINE_4) #It put Text on the frame\n",
    "    cv2.imshow('frame', frame) #Here each frames are displayed. Since it is continous we feel like we are watching the video\n",
    "    cv2.setMouseCallback(\"frame\",click_event) #This function calls the function click_event on mouse click\n",
    "    if cv2.waitKey(1)== ord('q'):#press  to exit the video\n",
    "        break\n",
    "        \n",
    "# After the loop release the cap object\n",
    "vidd.release()\n",
    "# Destroy all the windows\n",
    "cv2.destroyAllWindows()"
   ]
  },
  {
   "cell_type": "code",
   "execution_count": null,
   "id": "c3837ebd",
   "metadata": {},
   "outputs": [],
   "source": []
  }
 ],
 "metadata": {
  "kernelspec": {
   "display_name": "Python 3",
   "language": "python",
   "name": "python3"
  },
  "language_info": {
   "codemirror_mode": {
    "name": "ipython",
    "version": 3
   },
   "file_extension": ".py",
   "mimetype": "text/x-python",
   "name": "python",
   "nbconvert_exporter": "python",
   "pygments_lexer": "ipython3",
   "version": "3.7.10"
  }
 },
 "nbformat": 4,
 "nbformat_minor": 5
}
